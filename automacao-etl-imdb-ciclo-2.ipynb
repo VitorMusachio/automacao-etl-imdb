{
 "cells": [
  {
   "cell_type": "code",
   "execution_count": null,
   "id": "88a3fcb5-7849-4300-b30b-85cc0d4c62f2",
   "metadata": {},
   "outputs": [],
   "source": [
    "!pip install pandas as pd"
   ]
  },
  {
   "cell_type": "code",
   "execution_count": null,
   "id": "e0f1fbbe-1108-4af9-b06c-e3d9acdbb4de",
   "metadata": {},
   "outputs": [],
   "source": [
    "import os\n",
    "import requests\n",
    "import pandas as pd\n",
    "import sqlite3"
   ]
  },
  {
   "cell_type": "code",
   "execution_count": null,
   "id": "8c7fa981-da0d-4589-acff-b1516a949b4c",
   "metadata": {},
   "outputs": [],
   "source": [
    "# download dos arquivos\n",
    "\n",
    "# URL base para os datasets do IMDb\n",
    "base_url = \"https://datasets.imdbws.com/\"\n",
    "\n",
    "# Lista de nomes de arquivos que você deseja baixar\n",
    "arquivos = [\n",
    "    \"name.basics.tsv.gz\",\n",
    "    \"title.akas.tsv.gz\",\n",
    "    \"title.basics.tsv.gz\",\n",
    "    \"title.crew.tsv.gz\",\n",
    "    \"title.episode.tsv.gz\",\n",
    "    \"title.principals.tsv.gz\",\n",
    "    \"title.ratings.tsv.gz\"\n",
    "]\n",
    "\n",
    "# Diretório de destino\n",
    "destino_diretorio = \"data\"\n",
    "\n",
    "# Certifique-se de que o diretório de destino existe\n",
    "os.makedirs(destino_diretorio, exist_ok=True)\n",
    "\n",
    "# Loop para baixar cada arquivo\n",
    "for arquivo in arquivos:\n",
    "    url = base_url + arquivo\n",
    "    caminho_destino = os.path.join(destino_diretorio, arquivo)\n",
    "\n",
    "    # Verifica se o arquivo já existe para evitar o download repetido\n",
    "    if not os.path.exists(caminho_destino):\n",
    "        print(f\"Baixando {arquivo}...\")\n",
    "        response = requests.get(url)\n",
    "\n",
    "        # Verifica se a solicitação foi bem-sucedida (código de status 200)\n",
    "        if response.status_code == 200:\n",
    "            with open(caminho_destino, 'wb') as f:\n",
    "                f.write(response.content)\n",
    "            print(f\"{arquivo} baixado com sucesso!\")\n",
    "        else:\n",
    "            print(f\"Falha ao baixar {arquivo}. Código de status: {response.status_code}\")\n",
    "    else:\n",
    "        print(f\"{arquivo} já existe. Pulando o download.\")\n",
    "\n",
    "print(\"Download concluído.\")"
   ]
  },
  {
   "cell_type": "code",
   "execution_count": null,
   "id": "17be4fad-7bdd-4c82-b206-f3782b47faf3",
   "metadata": {},
   "outputs": [],
   "source": [
    "# tratatamento dos dados\n",
    "\n",
    "# Diretórios\n",
    "diretorio_dados = \"data\"\n",
    "diretorio_tratados = os.path.join(diretorio_dados, \"tratados\")\n",
    "\n",
    "# Certifica-se de que o diretório \"tratados\" existe\n",
    "os.makedirs(diretorio_tratados, exist_ok=True)\n",
    "\n",
    "# Lista todos os arquivos no diretório \"data\"\n",
    "arquivos = os.listdir(diretorio_dados)\n",
    "\n",
    "# Loop para abrir, tratar e salvar cada arquivo\n",
    "for arquivo in arquivos:\n",
    "    caminho_arquivo = os.path.join(diretorio_dados, arquivo)\n",
    "\n",
    "    if os.path.isfile(caminho_arquivo) and arquivo.endswith(\".gz\"):\n",
    "        print(f\"Lendo e tratando o arquivo {arquivo}...\")\n",
    "        \n",
    "        # Lê o arquivo TSV usando o pandas\n",
    "        df = pd.read_csv(caminho_arquivo, sep='\\t', compression='gzip', low_memory=False)\n",
    "\n",
    "        # Substitui os caracteres \"\\n\" por um valor nulo\n",
    "        df.replace({\"\\\\N\": None}, inplace=True)\n",
    "\n",
    "        # Salva o DataFrame no diretório \"tratados\" sem compressão\n",
    "        caminho_destino = os.path.join(diretorio_tratados, arquivo[:-3])  # Remove a extensão .gz\n",
    "        df.to_csv(caminho_destino, sep='\\t', index=False)\n",
    "\n",
    "        print(f\"Tratamento concluído para {arquivo}. Arquivo tratado salvo em {caminho_destino}\")\n",
    "\n",
    "print(\"Todos os arquivos foram tratados e salvos no diretório 'tratados'.\")"
   ]
  },
  {
   "cell_type": "code",
   "execution_count": null,
   "id": "d68999fc-1809-4e17-8ee6-5259a8f7ce7c",
   "metadata": {},
   "outputs": [],
   "source": [
    "# validando dataframe\n",
    "df = pd.read_csv('./data/tratados/name.basics.tsv', sep='\\t')\n",
    "df.head()"
   ]
  },
  {
   "cell_type": "code",
   "execution_count": null,
   "id": "acb23119-34a7-4d37-a4d5-6577738eb5b5",
   "metadata": {},
   "outputs": [],
   "source": [
    "# Verifica a quantidade de dados nulos por coluna\n",
    "df.isnull().sum()"
   ]
  },
  {
   "cell_type": "code",
   "execution_count": null,
   "id": "a13b3e7d-bd14-44a1-a2ef-0d0f0fcb474d",
   "metadata": {},
   "outputs": [],
   "source": [
    "# Salvando em banco de dados com o SQLite\n",
    "\n",
    "# Diretórios\n",
    "diretorio_tratados = os.path.join(\"data\", \"tratados\")\n",
    "banco_dados = \"imdb_data.db\"\n",
    "\n",
    "# Conecta ao banco de dados SQLite\n",
    "conexao = sqlite3.connect(banco_dados)\n",
    "\n",
    "# Lista todos os arquivos no diretório \"tratados\"\n",
    "arquivos = os.listdir(diretorio_tratados)\n",
    "\n",
    "# Loop para ler cada arquivo e salvar em uma tabela SQLite\n",
    "for arquivo in arquivos:\n",
    "    caminho_arquivo = os.path.join(diretorio_tratados, arquivo)\n",
    "\n",
    "    if os.path.isfile(caminho_arquivo) and arquivo.endswith(\".tsv\"):\n",
    "        # Lê o arquivo TSV usando o pandas\n",
    "        df = pd.read_csv(caminho_arquivo, sep='\\t', low_memory=False)\n",
    "\n",
    "        # Remove a extensão do nome do arquivo\n",
    "        nome_tabela = os.path.splitext(arquivo)[0]\n",
    "\n",
    "        # Substitui os caracteres especiais no nome da tabela\n",
    "        nome_tabela = nome_tabela.replace(\".\", \"_\").replace(\"-\", \"_\")\n",
    "\n",
    "        # Salva o DataFrame na tabela SQLite\n",
    "        df.to_sql(nome_tabela, conexao, index=False, if_exists='replace')\n",
    "\n",
    "        print(f\"Arquivo {arquivo} salvo como tabela {nome_tabela} no banco de dados.\")\n",
    "\n",
    "# Fecha a conexão com o banco de dados\n",
    "conexao.close()\n",
    "\n",
    "print(\"Todos os arquivos foram salvos no banco de dados.\")"
   ]
  },
  {
   "cell_type": "code",
   "execution_count": null,
   "id": "a2c995f2-9379-4517-970c-b773ad5481c7",
   "metadata": {},
   "outputs": [],
   "source": [
    "# Nome do banco de dados\n",
    "banco_dados = \"imdb_data.db\"\n",
    "\n",
    "# Conecta-se ao banco de dados SQLite\n",
    "conexao = sqlite3.connect(banco_dados)\n",
    "\n",
    "# Cria um cursor\n",
    "cursor = conexao.cursor()\n",
    "\n",
    "# Executa a consulta SQL para obter o nome das tabelas\n",
    "cursor.execute(\"SELECT name FROM sqlite_master WHERE type='table';\")\n",
    "\n",
    "# Recupera os resultados da consulta\n",
    "tabelas = cursor.fetchall()\n",
    "\n",
    "# Exibe o nome das tabelas\n",
    "print(\"Tabelas no banco de dados:\")\n",
    "for tabela in tabelas:\n",
    "    print(tabela[0])\n",
    "\n",
    "# Fecha o cursor e a conexão com o banco de dados\n",
    "cursor.close()\n",
    "conexao.close()"
   ]
  },
  {
   "cell_type": "code",
   "execution_count": null,
   "id": "48ead680-bf67-4e3f-b93e-6e071dbdd284",
   "metadata": {},
   "outputs": [],
   "source": [
    "# Conecta-se ao banco de dados SQLite\n",
    "conexao = sqlite3.connect(banco_dados)\n",
    "\n",
    "# Executa a consulta SQL para obter as 10 primeiras linhas da tabela name_basics\n",
    "query = \"SELECT * FROM title_crew LIMIT 10;\"\n",
    "df = pd.read_sql_query(consulta_sql, conexao)\n",
    "\n",
    "# Fecha a conexão com o banco de dados\n",
    "conexao.close()"
   ]
  },
  {
   "cell_type": "code",
   "execution_count": null,
   "id": "ac5fcd45-3d0b-426b-83e8-8abce2935af8",
   "metadata": {},
   "outputs": [],
   "source": [
    "df"
   ]
  },
  {
   "cell_type": "code",
   "execution_count": null,
   "id": "645b025c-74ad-4708-a1ae-571b78820027",
   "metadata": {},
   "outputs": [],
   "source": []
  }
 ],
 "metadata": {
  "kernelspec": {
   "display_name": "Python 3 (ipykernel)",
   "language": "python",
   "name": "python3"
  },
  "language_info": {
   "codemirror_mode": {
    "name": "ipython",
    "version": 3
   },
   "file_extension": ".py",
   "mimetype": "text/x-python",
   "name": "python",
   "nbconvert_exporter": "python",
   "pygments_lexer": "ipython3",
   "version": "3.12.1"
  }
 },
 "nbformat": 4,
 "nbformat_minor": 5
}
